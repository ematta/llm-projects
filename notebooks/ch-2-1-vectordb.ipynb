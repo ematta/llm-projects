{
 "cells": [
  {
   "cell_type": "code",
   "execution_count": 1,
   "metadata": {},
   "outputs": [
    {
     "name": "stdout",
     "output_type": "stream",
     "text": [
      "Note: you may need to restart the kernel to use updated packages.\n",
      "Note: you may need to restart the kernel to use updated packages.\n",
      "Note: you may need to restart the kernel to use updated packages.\n"
     ]
    }
   ],
   "source": [
    "%pip install -q transformers sentence-transformers chromadb\n",
    "%pip install -q numpy pandas scikit-learn\n",
    "%pip install -q kaggle"
   ]
  },
  {
   "cell_type": "markdown",
   "metadata": {},
   "source": [
    "# IMPORTS"
   ]
  },
  {
   "cell_type": "code",
   "execution_count": 2,
   "metadata": {},
   "outputs": [],
   "source": [
    "import numpy as np\n",
    "import pandas as pd\n",
    "import os\n",
    "import zipfile\n",
    "import chromadb\n",
    "\n",
    "from transformers import AutoTokenizer, AutoModelForCausalLM, pipeline"
   ]
  },
  {
   "cell_type": "markdown",
   "metadata": {},
   "source": [
    "# ENV VARS"
   ]
  },
  {
   "cell_type": "code",
   "execution_count": 3,
   "metadata": {},
   "outputs": [],
   "source": [
    "os.environ['KAGGLE_CONFIG_DIR'] = \".\"\n",
    "os.environ['TOKENIZERS_PARALLELISM'] = \"false\""
   ]
  },
  {
   "cell_type": "markdown",
   "metadata": {},
   "source": [
    "# HYPERPARAMS"
   ]
  },
  {
   "cell_type": "code",
   "execution_count": 4,
   "metadata": {},
   "outputs": [],
   "source": [
    "MAX_NEWS = 1000\n",
    "DOCUMENT = 'title'\n",
    "TOPIC = 'topic'"
   ]
  },
  {
   "cell_type": "code",
   "execution_count": 5,
   "metadata": {},
   "outputs": [
    {
     "name": "stdout",
     "output_type": "stream",
     "text": [
      "Dataset URL: https://www.kaggle.com/datasets/kotartemiy/topic-labeled-news-dataset\n",
      "License(s): CC0-1.0\n",
      "topic-labeled-news-dataset.zip: Skipping, found more recently modified local copy (use --force to force download)\n"
     ]
    }
   ],
   "source": [
    "!kaggle datasets download -d 'kotartemiy/topic-labeled-news-dataset'\n",
    "\n",
    "file_path = 'topic-labeled-news-dataset.zip'\n",
    "with zipfile.ZipFile(file_path, 'r') as zip_ref:\n",
    "    zip_ref.extractall('./')"
   ]
  },
  {
   "cell_type": "code",
   "execution_count": 6,
   "metadata": {},
   "outputs": [],
   "source": [
    "news = pd.read_csv('./labelled_newscatcher_dataset.csv', sep=';')\n",
    "subset_news = news.sample(n=MAX_NEWS, random_state=42)"
   ]
  },
  {
   "cell_type": "code",
   "execution_count": 7,
   "metadata": {},
   "outputs": [
    {
     "data": {
      "text/html": [
       "<div>\n",
       "<style scoped>\n",
       "    .dataframe tbody tr th:only-of-type {\n",
       "        vertical-align: middle;\n",
       "    }\n",
       "\n",
       "    .dataframe tbody tr th {\n",
       "        vertical-align: top;\n",
       "    }\n",
       "\n",
       "    .dataframe thead th {\n",
       "        text-align: right;\n",
       "    }\n",
       "</style>\n",
       "<table border=\"1\" class=\"dataframe\">\n",
       "  <thead>\n",
       "    <tr style=\"text-align: right;\">\n",
       "      <th></th>\n",
       "      <th>topic</th>\n",
       "      <th>link</th>\n",
       "      <th>domain</th>\n",
       "      <th>published_date</th>\n",
       "      <th>title</th>\n",
       "      <th>lang</th>\n",
       "    </tr>\n",
       "  </thead>\n",
       "  <tbody>\n",
       "    <tr>\n",
       "      <th>27583</th>\n",
       "      <td>SCIENCE</td>\n",
       "      <td>https://thedigitalwise.com/2020/08/13/nasa-res...</td>\n",
       "      <td>thedigitalwise.com</td>\n",
       "      <td>2020-08-13 13:25:00</td>\n",
       "      <td>NASA Researchers Finds A Dwarf Planet Ceres Wi...</td>\n",
       "      <td>en</td>\n",
       "    </tr>\n",
       "    <tr>\n",
       "      <th>94783</th>\n",
       "      <td>WORLD</td>\n",
       "      <td>https://www.theguardian.com/world/live/2020/au...</td>\n",
       "      <td>theguardian.com</td>\n",
       "      <td>2020-08-16 23:13:00</td>\n",
       "      <td>Amazon investigated in Germany over lockdown p...</td>\n",
       "      <td>en</td>\n",
       "    </tr>\n",
       "    <tr>\n",
       "      <th>101314</th>\n",
       "      <td>SPORTS</td>\n",
       "      <td>https://madaboutepl.net/2020/08/liverpool-tran...</td>\n",
       "      <td>madaboutepl.net</td>\n",
       "      <td>2020-08-05 17:39:05</td>\n",
       "      <td>Liverpool Asked To Pay At Least £25m For Wing ...</td>\n",
       "      <td>en</td>\n",
       "    </tr>\n",
       "    <tr>\n",
       "      <th>15627</th>\n",
       "      <td>ENTERTAINMENT</td>\n",
       "      <td>https://pledgetimes.com/neha-dhupia-gave-a-rob...</td>\n",
       "      <td>pledgetimes.com</td>\n",
       "      <td>2020-08-09 09:46:16</td>\n",
       "      <td>Neha Dhupia gave a robust reply to Suchitra Kr...</td>\n",
       "      <td>en</td>\n",
       "    </tr>\n",
       "    <tr>\n",
       "      <th>2888</th>\n",
       "      <td>SCIENCE</td>\n",
       "      <td>https://en.brinkwire.com/news/spacex-brings-na...</td>\n",
       "      <td>en.brinkwire.com</td>\n",
       "      <td>2020-08-04 17:15:37</td>\n",
       "      <td>SpaceX brings NASA astronauts safely home in m...</td>\n",
       "      <td>en</td>\n",
       "    </tr>\n",
       "  </tbody>\n",
       "</table>\n",
       "</div>"
      ],
      "text/plain": [
       "                topic                                               link  \\\n",
       "27583         SCIENCE  https://thedigitalwise.com/2020/08/13/nasa-res...   \n",
       "94783           WORLD  https://www.theguardian.com/world/live/2020/au...   \n",
       "101314         SPORTS  https://madaboutepl.net/2020/08/liverpool-tran...   \n",
       "15627   ENTERTAINMENT  https://pledgetimes.com/neha-dhupia-gave-a-rob...   \n",
       "2888          SCIENCE  https://en.brinkwire.com/news/spacex-brings-na...   \n",
       "\n",
       "                    domain       published_date  \\\n",
       "27583   thedigitalwise.com  2020-08-13 13:25:00   \n",
       "94783      theguardian.com  2020-08-16 23:13:00   \n",
       "101314     madaboutepl.net  2020-08-05 17:39:05   \n",
       "15627      pledgetimes.com  2020-08-09 09:46:16   \n",
       "2888      en.brinkwire.com  2020-08-04 17:15:37   \n",
       "\n",
       "                                                    title lang  \n",
       "27583   NASA Researchers Finds A Dwarf Planet Ceres Wi...   en  \n",
       "94783   Amazon investigated in Germany over lockdown p...   en  \n",
       "101314  Liverpool Asked To Pay At Least £25m For Wing ...   en  \n",
       "15627   Neha Dhupia gave a robust reply to Suchitra Kr...   en  \n",
       "2888    SpaceX brings NASA astronauts safely home in m...   en  "
      ]
     },
     "execution_count": 7,
     "metadata": {},
     "output_type": "execute_result"
    }
   ],
   "source": [
    "subset_news.head()"
   ]
  },
  {
   "cell_type": "code",
   "execution_count": 8,
   "metadata": {},
   "outputs": [],
   "source": [
    "chroma_client = chromadb.PersistentClient(path='./db/')\n",
    "collection_name = \"news_collection\"\n",
    "\n",
    "if(len(chroma_client.list_collections()) > 0 and collection_name in [chroma_client.list_collections()[0].name]):\n",
    "    chroma_client.delete_collection(collection_name)\n",
    "\n",
    "collection = chroma_client.create_collection(collection_name)"
   ]
  },
  {
   "cell_type": "code",
   "execution_count": 9,
   "metadata": {},
   "outputs": [],
   "source": [
    "collection.add(\n",
    "    documents=subset_news[DOCUMENT].tolist(),\n",
    "    metadatas=[{TOPIC: topic} for topic in subset_news[TOPIC].tolist()],\n",
    "    ids=[f\"id{x}\" for x in range(len(subset_news))]\n",
    ")"
   ]
  },
  {
   "cell_type": "code",
   "execution_count": 10,
   "metadata": {},
   "outputs": [
    {
     "name": "stdout",
     "output_type": "stream",
     "text": [
      "{'ids': [['id384', 'id912', 'id9', 'id899', 'id988']], 'embeddings': None, 'documents': [['The best back to school laptop sales: top deals from Apple, Best Buy, Dell and more', \"Dell's latest business Chromebook offers high-end specs and extra security\", 'Redmi G gaming laptop unveiled: 144Hz display for just $760 news', 'Apple just made it a whole lot easier to get your MacBook fixed', \"New Microsoft Surface accessories 'Brydge' the gap between tablet and laptop\"]], 'uris': None, 'data': None, 'metadatas': [[{'topic': 'TECHNOLOGY'}, {'topic': 'TECHNOLOGY'}, {'topic': 'TECHNOLOGY'}, {'topic': 'TECHNOLOGY'}, {'topic': 'TECHNOLOGY'}]], 'distances': [[1.0497058629989624, 1.2200576066970825, 1.2559947967529297, 1.3180276155471802, 1.3815689086914062]], 'included': [<IncludeEnum.distances: 'distances'>, <IncludeEnum.documents: 'documents'>, <IncludeEnum.metadatas: 'metadatas'>]}\n"
     ]
    }
   ],
   "source": [
    "results = collection.query(query_texts=[\"laptop\"], n_results=5)\n",
    "print(results)"
   ]
  },
  {
   "cell_type": "code",
   "execution_count": 11,
   "metadata": {},
   "outputs": [
    {
     "name": "stderr",
     "output_type": "stream",
     "text": [
      "huggingface/tokenizers: The current process just got forked, after parallelism has already been used. Disabling parallelism to avoid deadlocks...\n",
      "To disable this warning, you can either:\n",
      "\t- Avoid using `tokenizers` before the fork if possible\n",
      "\t- Explicitly set the environment variable TOKENIZERS_PARALLELISM=(true | false)\n"
     ]
    },
    {
     "data": {
      "application/vnd.jupyter.widget-view+json": {
       "model_id": "c595006fb5c642e3a5a9bd91242f2bb2",
       "version_major": 2,
       "version_minor": 0
      },
      "text/plain": [
       "Loading checkpoint shards:   0%|          | 0/2 [00:00<?, ?it/s]"
      ]
     },
     "metadata": {},
     "output_type": "display_data"
    },
    {
     "name": "stderr",
     "output_type": "stream",
     "text": [
      "Device set to use mps:0\n"
     ]
    }
   ],
   "source": [
    "model_id = 'meta-llama/Llama-3.2-3B'\n",
    "tokenizer = AutoTokenizer.from_pretrained(model_id)\n",
    "model = AutoModelForCausalLM.from_pretrained(model_id, trust_remote_code=True)\n",
    "pipe = pipeline(\n",
    "    'text-generation',\n",
    "    model=model,\n",
    "    tokenizer=tokenizer,\n",
    "    max_new_tokens=256,\n",
    "    device_map=\"auto\"\n",
    ")"
   ]
  },
  {
   "cell_type": "code",
   "execution_count": 12,
   "metadata": {},
   "outputs": [
    {
     "data": {
      "text/plain": [
       "\"\\nRelevant context: #The best back to school laptop sales: top deals from Apple, Best Buy, Dell and more #Dell's latest business Chromebook offers high-end specs and extra security #Redmi G gaming laptop unveiled: 144Hz display for just $760 news #Apple just made it a whole lot easier to get your MacBook fixed #New Microsoft Surface accessories 'Brydge' the gap between tablet and laptop\\nConsidering the relevant context, answer the question.\\nQuestion: Can I buy a new Toshiba laptop?\\nAnswer: \""
      ]
     },
     "execution_count": 12,
     "metadata": {},
     "output_type": "execute_result"
    }
   ],
   "source": [
    "question = \"Can I buy a new Toshiba laptop?\"\n",
    "context = \" \".join([f\"#{str(i)}\" for i in results[\"documents\"][0]])\n",
    "prompt_template = f\"\"\"\n",
    "Relevant context: {context}\n",
    "Considering the relevant context, answer the question.\n",
    "Question: {question}\n",
    "Answer: \"\"\"\n",
    "prompt_template"
   ]
  },
  {
   "cell_type": "code",
   "execution_count": 13,
   "metadata": {},
   "outputs": [
    {
     "name": "stderr",
     "output_type": "stream",
     "text": [
      "Setting `pad_token_id` to `eos_token_id`:128001 for open-end generation.\n"
     ]
    },
    {
     "data": {
      "text/plain": [
       "[{'generated_text': \"1. Yes, you can buy a new Toshiba laptop. 2. No, you cannot buy a new Toshiba laptop. 3. It depends on the context. 4. I don't know. 5. I don't think so.\\n\"}]"
      ]
     },
     "execution_count": 13,
     "metadata": {},
     "output_type": "execute_result"
    }
   ],
   "source": [
    "lm_response = pipe(prompt_template, return_full_text=False)\n",
    "lm_response"
   ]
  }
 ],
 "metadata": {
  "kernelspec": {
   "display_name": ".venv",
   "language": "python",
   "name": "python3"
  },
  "language_info": {
   "codemirror_mode": {
    "name": "ipython",
    "version": 3
   },
   "file_extension": ".py",
   "mimetype": "text/x-python",
   "name": "python",
   "nbconvert_exporter": "python",
   "pygments_lexer": "ipython3",
   "version": "3.12.6"
  }
 },
 "nbformat": 4,
 "nbformat_minor": 2
}
