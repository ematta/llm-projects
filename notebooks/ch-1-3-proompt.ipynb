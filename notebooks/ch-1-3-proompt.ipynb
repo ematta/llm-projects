{
 "cells": [
  {
   "cell_type": "code",
   "execution_count": 1,
   "metadata": {},
   "outputs": [
    {
     "name": "stdout",
     "output_type": "stream",
     "text": [
      "Requirement already satisfied: openai==1.58.1 in /Volumes/external/github.com/ematta/llm-projects/.venv/lib/python3.12/site-packages (1.58.1)\n",
      "Requirement already satisfied: anyio<5,>=3.5.0 in /Volumes/external/github.com/ematta/llm-projects/.venv/lib/python3.12/site-packages (from openai==1.58.1) (4.7.0)\n",
      "Requirement already satisfied: distro<2,>=1.7.0 in /Volumes/external/github.com/ematta/llm-projects/.venv/lib/python3.12/site-packages (from openai==1.58.1) (1.9.0)\n",
      "Requirement already satisfied: httpx<1,>=0.23.0 in /Volumes/external/github.com/ematta/llm-projects/.venv/lib/python3.12/site-packages (from openai==1.58.1) (0.28.1)\n",
      "Requirement already satisfied: jiter<1,>=0.4.0 in /Volumes/external/github.com/ematta/llm-projects/.venv/lib/python3.12/site-packages (from openai==1.58.1) (0.8.2)\n",
      "Requirement already satisfied: pydantic<3,>=1.9.0 in /Volumes/external/github.com/ematta/llm-projects/.venv/lib/python3.12/site-packages (from openai==1.58.1) (2.10.4)\n",
      "Requirement already satisfied: sniffio in /Volumes/external/github.com/ematta/llm-projects/.venv/lib/python3.12/site-packages (from openai==1.58.1) (1.3.1)\n",
      "Requirement already satisfied: tqdm>4 in /Volumes/external/github.com/ematta/llm-projects/.venv/lib/python3.12/site-packages (from openai==1.58.1) (4.67.1)\n",
      "Requirement already satisfied: typing-extensions<5,>=4.11 in /Volumes/external/github.com/ematta/llm-projects/.venv/lib/python3.12/site-packages (from openai==1.58.1) (4.12.2)\n",
      "Requirement already satisfied: idna>=2.8 in /Volumes/external/github.com/ematta/llm-projects/.venv/lib/python3.12/site-packages (from anyio<5,>=3.5.0->openai==1.58.1) (3.10)\n",
      "Requirement already satisfied: certifi in /Volumes/external/github.com/ematta/llm-projects/.venv/lib/python3.12/site-packages (from httpx<1,>=0.23.0->openai==1.58.1) (2024.12.14)\n",
      "Requirement already satisfied: httpcore==1.* in /Volumes/external/github.com/ematta/llm-projects/.venv/lib/python3.12/site-packages (from httpx<1,>=0.23.0->openai==1.58.1) (1.0.7)\n",
      "Requirement already satisfied: h11<0.15,>=0.13 in /Volumes/external/github.com/ematta/llm-projects/.venv/lib/python3.12/site-packages (from httpcore==1.*->httpx<1,>=0.23.0->openai==1.58.1) (0.14.0)\n",
      "Requirement already satisfied: annotated-types>=0.6.0 in /Volumes/external/github.com/ematta/llm-projects/.venv/lib/python3.12/site-packages (from pydantic<3,>=1.9.0->openai==1.58.1) (0.7.0)\n",
      "Requirement already satisfied: pydantic-core==2.27.2 in /Volumes/external/github.com/ematta/llm-projects/.venv/lib/python3.12/site-packages (from pydantic<3,>=1.9.0->openai==1.58.1) (2.27.2)\n",
      "Note: you may need to restart the kernel to use updated packages.\n"
     ]
    }
   ],
   "source": [
    "%pip install openai==1.58.1"
   ]
  },
  {
   "cell_type": "code",
   "execution_count": 2,
   "metadata": {},
   "outputs": [],
   "source": [
    "import os\n",
    "import openai\n",
    "openai.api_key = os.getenv(\"OPENAI_API_KEY\")"
   ]
  },
  {
   "cell_type": "code",
   "execution_count": 5,
   "metadata": {},
   "outputs": [],
   "source": [
    "def return_OAIResponse(user_message, context, model=\"gpt-4o-mini\"):\n",
    "    new_context = context.copy()\n",
    "    new_context.append({\n",
    "        'role': 'user',\n",
    "        'content': \"question: \" + user_message\n",
    "    })\n",
    "    response = openai.chat.completions.create(\n",
    "        model=model,\n",
    "        messages=new_context,\n",
    "        temperature=1,\n",
    "    )\n",
    "    return response.choices[0].message, new_context"
   ]
  },
  {
   "cell_type": "code",
   "execution_count": 6,
   "metadata": {},
   "outputs": [
    {
     "name": "stdout",
     "output_type": "stream",
     "text": [
      "(ChatCompletionMessage(content='Sebastian Vettel won the 2010 Formula One World Championship. He drove for Red Bull Racing and secured his first championship title that year.', refusal=None, role='assistant', audio=None, function_call=None, tool_calls=None), [{'role': 'system', 'content': 'You are an expert in F1.'}, {'role': 'user', 'content': 'question: Who won the F1 2010?'}])\n"
     ]
    }
   ],
   "source": [
    "context_user = [{\n",
    "    'role': 'system',\n",
    "    'content': \"You are an expert in F1.\"\n",
    "}]\n",
    "print(return_OAIResponse(\"Who won the F1 2010?\", context_user))"
   ]
  },
  {
   "cell_type": "code",
   "execution_count": 9,
   "metadata": {},
   "outputs": [
    {
     "name": "stdout",
     "output_type": "stream",
     "text": [
      "(ChatCompletionMessage(content='Driver: Sebastian Vettel  \\nTeam: Red Bull Racing', refusal=None, role='assistant', audio=None, function_call=None, tool_calls=None), [{'role': 'system', 'content': '\\nYou are an expert in F1. Here is an example of a question you could answer:\\n\\nWho won the F1 2000?\\nDriver: Michael Schumacher\\nTeam: Ferrari\\n    '}, {'role': 'user', 'content': 'question: Who won the F1 2011?'}])\n"
     ]
    }
   ],
   "source": [
    "context_user = [{\n",
    "    'role': 'system',\n",
    "    'content': \"\"\"\n",
    "You are an expert in F1. Here is an example of a question you could answer:\n",
    "\n",
    "Who won the F1 2000?\n",
    "Driver: Michael Schumacher\n",
    "Team: Ferrari\n",
    "    \"\"\"\n",
    "}]\n",
    "print(return_OAIResponse(\"Who won the F1 2011?\", context_user))"
   ]
  },
  {
   "cell_type": "code",
   "execution_count": 12,
   "metadata": {},
   "outputs": [
    {
     "name": "stdout",
     "output_type": "stream",
     "text": [
      "(ChatCompletionMessage(content='Driver: Lewis Hamilton  \\nTeam: Mercedes  \\nPoints: 413.', refusal=None, role='assistant', audio=None, function_call=None, tool_calls=None), [{'role': 'system', 'content': 'You are an expert in F1.\\n\\nHere is an example of a question you could answer\\n\\n'}, {'role': 'user', 'content': 'Who won the 2010 f1 championship?'}, {'role': 'assistant', 'content': 'Driver:\\tSebastian Vettel\\nTeam:\\tRed Bull. \\nPoints:\\t256.'}, {'role': 'user', 'content': 'Who won the 2009 f1 championship?'}, {'role': 'assistant', 'content': 'Driver:\\tJenson Button\\nTeam:\\tBrawnGP. \\nPoints:\\t95.'}, {'role': 'user', 'content': 'question: Who won the 2019 f1 championship?'}])\n"
     ]
    }
   ],
   "source": [
    "context_user = [\n",
    "    {\n",
    "        'role': 'system',\n",
    "        'content': \"You are an expert in F1.\\n\\nHere is an example of a question you could answer\\n\\n\"\n",
    "    },\n",
    "    {\n",
    "        'role': 'user',\n",
    "        'content': \"Who won the 2010 f1 championship?\"\n",
    "    },\n",
    "    {\n",
    "        'role': 'assistant',\n",
    "        'content': \"Driver:\\tSebastian Vettel\\nTeam:\\tRed Bull. \\nPoints:\\t256.\"\n",
    "    },\n",
    "    {\n",
    "        'role': 'user',\n",
    "        'content': \"Who won the 2009 f1 championship?\"\n",
    "    },\n",
    "    {\n",
    "        'role': 'assistant',\n",
    "        'content': \"Driver:\\tJenson Button\\nTeam:\\tBrawnGP. \\nPoints:\\t95.\"\n",
    "    }\n",
    "]\n",
    "print(return_OAIResponse(\"Who won the 2019 f1 championship?\", context_user))"
   ]
  },
  {
   "cell_type": "code",
   "execution_count": 13,
   "metadata": {},
   "outputs": [
    {
     "name": "stdout",
     "output_type": "stream",
     "text": [
      "(ChatCompletionMessage(content='Sentiment: Negative', refusal=None, role='assistant', audio=None, function_call=None, tool_calls=None), [{'role': 'system', 'content': \"You are an expert in reviewing product opinions and classifying them as positive or negative.\\n\\n        It fulfilled its function perfectl, I think the price is fair, I would buy it again.\\n        Sentiment: Positive\\n\\n        It didn't work bad, but I wouldn't buy it again, maybe it's a bit expensive for what it does.\\n        Sentiment: Negative\\n\\n        I wouldn't know what to say, my son uses it, but he doesn't love it.\\n        Sentiment: Neutral\\n        \"}, {'role': 'user', 'content': \"question: I'm not going to return it, but I don't plan to buy again.\"}])\n"
     ]
    }
   ],
   "source": [
    "context_user = [\n",
    "    {\n",
    "        'role': 'system',\n",
    "        'content': \"\"\"You are an expert in reviewing product opinions and classifying them as positive or negative.\n",
    "\n",
    "        It fulfilled its function perfectl, I think the price is fair, I would buy it again.\n",
    "        Sentiment: Positive\n",
    "\n",
    "        It didn't work bad, but I wouldn't buy it again, maybe it's a bit expensive for what it does.\n",
    "        Sentiment: Negative\n",
    "\n",
    "        I wouldn't know what to say, my son uses it, but he doesn't love it.\n",
    "        Sentiment: Neutral\n",
    "        \"\"\"\n",
    "    }\n",
    "]\n",
    "print(return_OAIResponse(\"I'm not going to return it, but I don't plan to buy again.\", context_user))"
   ]
  },
  {
   "cell_type": "code",
   "execution_count": null,
   "metadata": {},
   "outputs": [],
   "source": []
  }
 ],
 "metadata": {
  "kernelspec": {
   "display_name": ".venv",
   "language": "python",
   "name": "python3"
  },
  "language_info": {
   "codemirror_mode": {
    "name": "ipython",
    "version": 3
   },
   "file_extension": ".py",
   "mimetype": "text/x-python",
   "name": "python",
   "nbconvert_exporter": "python",
   "pygments_lexer": "ipython3",
   "version": "3.12.6"
  }
 },
 "nbformat": 4,
 "nbformat_minor": 2
}
